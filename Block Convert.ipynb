{
 "cells": [
  {
   "cell_type": "markdown",
   "metadata": {},
   "source": [
    "# Reading data from adc_minimal_block_convert"
   ]
  },
  {
   "cell_type": "code",
   "execution_count": 1,
   "metadata": {},
   "outputs": [],
   "source": [
    "# Import some useful libraries\n",
    "import serial, time\n",
    "from matplotlib import pyplot as plt\n",
    "%matplotlib inline\n",
    "plt.rcParams['figure.figsize'] = [18, 8]"
   ]
  },
  {
   "cell_type": "markdown",
   "metadata": {},
   "source": [
    "## First, open the serial connection"
   ]
  },
  {
   "cell_type": "code",
   "execution_count": 2,
   "metadata": {},
   "outputs": [],
   "source": [
    "ser = serial.Serial('/dev/ttyACM0', 115200) # Usually ACM0, changes with restarts"
   ]
  },
  {
   "cell_type": "markdown",
   "metadata": {},
   "source": [
    "## Now we send commands and read the data.\n",
    "\n",
    "To send a command\n",
    "    - clear the buffer\n",
    "    - write command with ser.write('c')\n",
    "    - wait for a response.\n",
    "\n",
    "To read back the response for a short response, like the time taken massage returned by 'c'\n",
    "    - Use ser.read_all()\n",
    "    \n",
    "To read back the response when the micro needs to send lots of data\n",
    "    - Use ser.readline() or ser.read() in a loop. If you read fast enough, you can empty the buffer prematurely so\n",
    "    - check if the bufer is empty, and if it is, wait and check again before exiting the loop. If not\n",
    "    - Keep reading until the buffer stays empty\n",
    "    \n",
    "I store the values in a list (a) and plot them later."
   ]
  },
  {
   "cell_type": "code",
   "execution_count": 3,
   "metadata": {},
   "outputs": [
    {
     "name": "stdout",
     "output_type": "stream",
     "text": [
      "b'Conversion complete in 20000 us\\n'\n",
      "10000 10000\n",
      "CPU times: user 308 ms, sys: 109 ms, total: 417 ms\n",
      "Wall time: 480 ms\n"
     ]
    }
   ],
   "source": [
    "%%time\n",
    "r = ser.read_all() # clear serial buffer\n",
    "\n",
    "# Start a conversion\n",
    "ser.write(b'c')\n",
    "while ser.in_waiting < 1:\n",
    "    pass # wait for a response\n",
    "time.sleep(0.05) # This extra delay helps with reliability - it gives the micro time to send all it needs to\n",
    "r = ser.read_all()\n",
    "print(r) # Prints the time\n",
    "\n",
    "# Get the values\n",
    "ser.write(b'p') # Print DMA buffer\n",
    "while ser.in_waiting < 1:\n",
    "    pass # wait for a response\n",
    "\n",
    "a = []\n",
    "i = 0\n",
    "while True:\n",
    "    if ser.in_waiting < 1:\n",
    "        time.sleep(0.005) # Wait and check again\n",
    "        if ser.in_waiting < 1:\n",
    "            break\n",
    "    b = ser.readline()\n",
    "    a.append(b)\n",
    "    i += 1\n",
    "    \n",
    "print(len(a), i) # Should be 10000 readings"
   ]
  },
  {
   "cell_type": "code",
   "execution_count": 5,
   "metadata": {},
   "outputs": [
    {
     "data": {
      "text/plain": [
       "[<matplotlib.lines.Line2D at 0x7fa4144a7240>]"
      ]
     },
     "execution_count": 5,
     "metadata": {},
     "output_type": "execute_result"
    },
    {
     "data": {
      "image/png": "[encoded data removed]",
      "text/plain": [
       "<Figure size 432x288 with 1 Axes>"
      ]
     },
     "metadata": {
      "needs_background": "light"
     },
     "output_type": "display_data"
    }
   ],
   "source": [
    "plt.plot([int(n) for n in a[100:1100]]) # microphone heard me whistling"
   ]
  },
  {
   "cell_type": "code",
   "execution_count": 6,
   "metadata": {},
   "outputs": [],
   "source": [
    "ser.close() # Close the connection when you're done."
   ]
  },
  {
   "cell_type": "code",
   "execution_count": null,
   "metadata": {},
   "outputs": [],
   "source": []
  }
 ],
 "metadata": {
  "kernelspec": {
   "display_name": "Python 3",
   "language": "python",
   "name": "python3"
  },
  "language_info": {
   "codemirror_mode": {
    "name": "ipython",
    "version": 3
   },
   "file_extension": ".py",
   "mimetype": "text/x-python",
   "name": "python",
   "nbconvert_exporter": "python",
   "pygments_lexer": "ipython3",
   "version": "3.7.3"
  }
 },
 "nbformat": 4,
 "nbformat_minor": 2
}
