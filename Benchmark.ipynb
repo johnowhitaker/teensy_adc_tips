{
 "cells": [
  {
   "cell_type": "markdown",
   "metadata": {},
   "source": [
    "# Reading data from adc_benchmark"
   ]
  },
  {
   "cell_type": "code",
   "execution_count": 1,
   "metadata": {},
   "outputs": [],
   "source": [
    "# Import some useful libraries\n",
    "import serial, time\n",
    "from matplotlib import pyplot as plt\n",
    "%matplotlib inline\n",
    "plt.rcParams['figure.figsize'] = [18, 8]"
   ]
  },
  {
   "cell_type": "markdown",
   "metadata": {},
   "source": [
    "## First, open the serial connection"
   ]
  },
  {
   "cell_type": "code",
   "execution_count": 5,
   "metadata": {},
   "outputs": [],
   "source": [
    "ser = serial.Serial('/dev/ttyACM1', 115200) # Usually ACM0, changes with restarts"
   ]
  },
  {
   "cell_type": "markdown",
   "metadata": {},
   "source": [
    "## Now we send commands and read the data.\n",
    "\n",
    "To send a command\n",
    "    - clear the buffer\n",
    "    - write command with ser.write('c')\n",
    "    - wait for a response.\n",
    "\n",
    "To read back the response for a short response, like the time taken message returned by 't'\n",
    "    - Use ser.read_all()\n",
    "    \n",
    "To read back the response when the micro needs to send lots of data\n",
    "    - Use ser.readline() or ser.read() in a loop. If you read fast enough, you can empty the buffer prematurely so\n",
    "    - check if the bufer is empty, and if it is, wait and check again before exiting the loop. If not\n",
    "    - Keep reading until the buffer stays empty\n"
   ]
  },
  {
   "cell_type": "markdown",
   "metadata": {},
   "source": [
    "# Reading one value:"
   ]
  },
  {
   "cell_type": "code",
   "execution_count": 13,
   "metadata": {},
   "outputs": [
    {
     "name": "stdout",
     "output_type": "stream",
     "text": [
      "b'26857\\r\\n'\n"
     ]
    }
   ],
   "source": [
    "r = ser.read_all() # clear serial buffer\n",
    "ser.write(b'a')\n",
    "while ser.in_waiting < 1:\n",
    "    pass # wait for a response\n",
    "time.sleep(0.05) # This extra delay helps with reliability - it gives the micro time to send all it needs to\n",
    "r = ser.read_all()\n",
    "print(r) # Prints the value"
   ]
  },
  {
   "cell_type": "markdown",
   "metadata": {},
   "source": [
    "# Reading and sending 20k samples"
   ]
  },
  {
   "cell_type": "code",
   "execution_count": 35,
   "metadata": {},
   "outputs": [
    {
     "name": "stdout",
     "output_type": "stream",
     "text": [
      "40000\n"
     ]
    }
   ],
   "source": [
    "\n",
    "# Get the values\n",
    "ser.write(b'd') # See code for command meanings\n",
    "while ser.in_waiting < 1:\n",
    "    pass # wait for a response\n",
    "\n",
    "a = b'' # Keep bytes as a string\n",
    "i = 0\n",
    "while True:\n",
    "    if ser.in_waiting < 1:\n",
    "        time.sleep(0.005) # Wait and check again\n",
    "        if ser.in_waiting < 1:\n",
    "            break\n",
    "    b = ser.read_all() # Using read() is much slower due to extra delays\n",
    "    a += b\n",
    "    i += 1\n",
    "    \n",
    "print(len(a)) # Should be 20000 readings, 2 bytes per reading (so 40k bytes)"
   ]
  },
  {
   "cell_type": "code",
   "execution_count": 36,
   "metadata": {},
   "outputs": [
    {
     "name": "stdout",
     "output_type": "stream",
     "text": [
      "b'123471\\r\\n'\n"
     ]
    }
   ],
   "source": [
    "# How long did it take?\n",
    "r = ser.read_all() # clear serial buffer\n",
    "ser.write(b't') # <<<< gets time\n",
    "while ser.in_waiting < 1:\n",
    "    pass # wait for a response\n",
    "time.sleep(0.05) # This extra delay helps with reliability - it gives the micro time to send all it needs to\n",
    "r = ser.read_all()\n",
    "print(r) # Prints the time"
   ]
  },
  {
   "cell_type": "code",
   "execution_count": 38,
   "metadata": {},
   "outputs": [
    {
     "data": {
      "text/plain": [
       "6.17355"
      ]
     },
     "execution_count": 38,
     "metadata": {},
     "output_type": "execute_result"
    }
   ],
   "source": [
    "(123471/20000) # 6.17 us / sample"
   ]
  },
  {
   "cell_type": "code",
   "execution_count": 39,
   "metadata": {},
   "outputs": [
    {
     "data": {
      "text/plain": [
       "161981.35594593064"
      ]
     },
     "execution_count": 39,
     "metadata": {},
     "output_type": "execute_result"
    }
   ],
   "source": [
    "1000000/(123471/20000) # ~162ksps"
   ]
  },
  {
   "cell_type": "markdown",
   "metadata": {},
   "source": [
    "converting to numbers:"
   ]
  },
  {
   "cell_type": "code",
   "execution_count": 40,
   "metadata": {},
   "outputs": [
    {
     "data": {
      "text/plain": [
       "b'`\\x89R\\xd5g6ikb\\xa4o\\xbcd\\xf0j\\xfds\\xe6}\\xbbw\\xbbv\\xd2sP}.\\x84\\xb6\\x84\\xf0\\x85@}\\xb0w\\x19x\\x9br3t\\x17w\\xdbn\\xbfm\\x7f'"
      ]
     },
     "execution_count": 40,
     "metadata": {},
     "output_type": "execute_result"
    }
   ],
   "source": [
    "a[:50] # This is what the result string looks like"
   ]
  },
  {
   "cell_type": "code",
   "execution_count": 48,
   "metadata": {},
   "outputs": [
    {
     "data": {
      "text/plain": [
       "[96, 82, 103, 105, 98]"
      ]
     },
     "execution_count": 48,
     "metadata": {},
     "output_type": "execute_result"
    }
   ],
   "source": [
    "vals = []\n",
    "for i in range(int(len(a)/2)):\n",
    "    val = int.from_bytes(a[i*2:i*2+1], byteorder='big') # Check byteorder (test with known signal)\n",
    "    vals.append(val)\n",
    "vals[:5] # look at just the first 5"
   ]
  },
  {
   "cell_type": "code",
   "execution_count": 49,
   "metadata": {},
   "outputs": [
    {
     "data": {
      "text/plain": [
       "20000"
      ]
     },
     "execution_count": 49,
     "metadata": {},
     "output_type": "execute_result"
    }
   ],
   "source": [
    "len(vals)"
   ]
  },
  {
   "cell_type": "markdown",
   "metadata": {},
   "source": [
    "# Reading 20k samples, then sending"
   ]
  },
  {
   "cell_type": "code",
   "execution_count": 52,
   "metadata": {},
   "outputs": [
    {
     "name": "stdout",
     "output_type": "stream",
     "text": [
      "40000\n"
     ]
    }
   ],
   "source": [
    "# Get the values\n",
    "ser.write(b'f') # See code for command meanings\n",
    "while ser.in_waiting < 1:\n",
    "    pass # wait for a response\n",
    "\n",
    "a = b'' # Keep bytes as a string\n",
    "i = 0\n",
    "while True:\n",
    "    if ser.in_waiting < 1:\n",
    "        time.sleep(0.005) # Wait and check again\n",
    "        if ser.in_waiting < 1:\n",
    "            break\n",
    "    b = ser.read_all() # Using read() is much slower due to extra delays\n",
    "    a += b\n",
    "    i += 1\n",
    "    \n",
    "print(len(a)) # Should be 20000 readings, 2 bytes per reading (so 40k bytes)"
   ]
  },
  {
   "cell_type": "code",
   "execution_count": 53,
   "metadata": {},
   "outputs": [
    {
     "name": "stdout",
     "output_type": "stream",
     "text": [
      "b'101434\\r\\n'\n"
     ]
    }
   ],
   "source": [
    "# How long did it take?\n",
    "r = ser.read_all() # clear serial buffer\n",
    "ser.write(b't') # <<<< gets time\n",
    "while ser.in_waiting < 1:\n",
    "    pass # wait for a response\n",
    "time.sleep(0.05) # This extra delay helps with reliability - it gives the micro time to send all it needs to\n",
    "r = ser.read_all()\n",
    "print(r) # Prints the time"
   ]
  },
  {
   "cell_type": "code",
   "execution_count": 55,
   "metadata": {},
   "outputs": [
    {
     "data": {
      "text/plain": [
       "197172.54569473746"
      ]
     },
     "execution_count": 55,
     "metadata": {},
     "output_type": "execute_result"
    }
   ],
   "source": [
    "1000000/(101434/20000) # ~200ksps"
   ]
  },
  {
   "cell_type": "markdown",
   "metadata": {},
   "source": [
    "### Speed has gone from ~163ksps to ~197 ksps by reading first, then sending"
   ]
  },
  {
   "cell_type": "markdown",
   "metadata": {},
   "source": [
    "# Reading from different analog pins"
   ]
  },
  {
   "cell_type": "code",
   "execution_count": 56,
   "metadata": {},
   "outputs": [
    {
     "name": "stdout",
     "output_type": "stream",
     "text": [
      "40000\n"
     ]
    }
   ],
   "source": [
    "# Get the values\n",
    "ser.write(b'g') # See code for command meanings\n",
    "while ser.in_waiting < 1:\n",
    "    pass # wait for a response\n",
    "\n",
    "a = b'' # Keep bytes as a string\n",
    "i = 0\n",
    "while True:\n",
    "    if ser.in_waiting < 1:\n",
    "        time.sleep(0.005) # Wait and check again\n",
    "        if ser.in_waiting < 1:\n",
    "            break\n",
    "    b = ser.read_all() # Using read() is much slower due to extra delays\n",
    "    a += b\n",
    "    i += 1\n",
    "    \n",
    "print(len(a)) # Should be 20000 readings, 2 bytes per reading (so 40k bytes)"
   ]
  },
  {
   "cell_type": "code",
   "execution_count": 57,
   "metadata": {},
   "outputs": [
    {
     "name": "stdout",
     "output_type": "stream",
     "text": [
      "b'91624\\r\\n'\n"
     ]
    }
   ],
   "source": [
    "# How long did it take?\n",
    "r = ser.read_all() # clear serial buffer\n",
    "ser.write(b't') # <<<< gets time\n",
    "while ser.in_waiting < 1:\n",
    "    pass # wait for a response\n",
    "time.sleep(0.05) # This extra delay helps with reliability - it gives the micro time to send all it needs to\n",
    "r = ser.read_all()\n",
    "print(r) # Prints the time"
   ]
  },
  {
   "cell_type": "code",
   "execution_count": 58,
   "metadata": {},
   "outputs": [
    {
     "data": {
      "text/plain": [
       "218283.41919147823"
      ]
     },
     "execution_count": 58,
     "metadata": {},
     "output_type": "execute_result"
    }
   ],
   "source": [
    "1000000/(91624/20000) # ~200ksps"
   ]
  },
  {
   "cell_type": "code",
   "execution_count": 59,
   "metadata": {},
   "outputs": [],
   "source": [
    "# Reading from different pins is actually a little faster, since some use ADC1 instead of ADC0 internally."
   ]
  },
  {
   "cell_type": "code",
   "execution_count": null,
   "metadata": {},
   "outputs": [],
   "source": []
  },
  {
   "cell_type": "code",
   "execution_count": null,
   "metadata": {},
   "outputs": [],
   "source": []
  },
  {
   "cell_type": "code",
   "execution_count": null,
   "metadata": {},
   "outputs": [],
   "source": []
  },
  {
   "cell_type": "code",
   "execution_count": 6,
   "metadata": {},
   "outputs": [],
   "source": [
    "ser.close() # Close the connection when you're done."
   ]
  },
  {
   "cell_type": "code",
   "execution_count": null,
   "metadata": {},
   "outputs": [],
   "source": []
  }
 ],
 "metadata": {
  "kernelspec": {
   "display_name": "Python 3",
   "language": "python",
   "name": "python3"
  },
  "language_info": {
   "codemirror_mode": {
    "name": "ipython",
    "version": 3
   },
   "file_extension": ".py",
   "mimetype": "text/x-python",
   "name": "python",
   "nbconvert_exporter": "python",
   "pygments_lexer": "ipython3",
   "version": "3.7.3"
  }
 },
 "nbformat": 4,
 "nbformat_minor": 2
}
